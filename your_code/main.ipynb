{
 "cells": [
  {
   "cell_type": "markdown",
   "metadata": {},
   "source": [
    "# Before your start:\n",
    "\n",
    "    Read the README.md file\n",
    "    Comment as much as you can and use the resources (README.md file)\n",
    "    Happy learning!"
   ]
  },
  {
   "cell_type": "markdown",
   "metadata": {},
   "source": [
    "In this exercise, we  will generate random numbers from the continuous disributions we learned in the lesson. There are two ways to generate random numbers:\n",
    "\n",
    "1. Using the numpy library \n",
    "1. using the Scipy library \n",
    "\n",
    "Use either or both of the lbraries in this exercise."
   ]
  },
  {
   "cell_type": "code",
   "execution_count": 113,
   "metadata": {
    "ExecuteTime": {
     "end_time": "2020-03-15T12:34:12.680510Z",
     "start_time": "2020-03-15T12:34:12.669660Z"
    }
   },
   "outputs": [],
   "source": [
    "import numpy as np\n",
    "import matplotlib.pyplot as plt\n",
    "import pandas as pd\n",
    "from scipy.stats import uniform\n",
    "from scipy import stats\n",
    "\n",
    "plt.rcParams[\"figure.figsize\"] = (15,5)"
   ]
  },
  {
   "cell_type": "markdown",
   "metadata": {},
   "source": [
    "## Uniform Distribution\n",
    "\n",
    "To generate uniform random numbers between any two given values using scipy, we can either use the following code or the code that we have\n",
    "discussed in class:"
   ]
  },
  {
   "cell_type": "code",
   "execution_count": 61,
   "metadata": {
    "ExecuteTime": {
     "end_time": "2020-03-15T11:11:46.702580Z",
     "start_time": "2020-03-15T11:11:46.692945Z"
    }
   },
   "outputs": [
    {
     "name": "stdout",
     "output_type": "stream",
     "text": [
      "[2.66915423 2.4736404  2.29577594 2.85380156 2.08802097 2.56147009\n",
      " 2.3947982  2.35886636 2.89090354 2.91055024]\n"
     ]
    }
   ],
   "source": [
    "x = uniform.rvs(size=10)\n",
    "a = 2\n",
    "b = 3\n",
    "randoms  = a + (b-a)*x\n",
    "print(randoms)"
   ]
  },
  {
   "cell_type": "markdown",
   "metadata": {},
   "source": [
    "**Your task:**\n",
    "\n",
    "1. Based on the code above, write a function that generates uniformly distributed random numbers. There are several requirements for your function:\n",
    "    * It should accept 3 parameters: \n",
    "        * `bottom` - the lower boundary of the generated numbers\n",
    "        * `ceiling` - the upper boundary of the generated numbers\n",
    "        * `count` - how many numbers to generate\n",
    "    * It should return an array of uniformly distributed random numbers\n",
    "\n",
    "1. Call your function with 2 sets of params below:\n",
    "    * bottom=10, ceiling=15, count=100\n",
    "    * bottom=10, ceiling=60, count=1,000\n",
    "\n",
    "1. Plot the uniform distributions generated above using histograms, where x axis is the value and y axis is the count. Let the histogram's number of bins be 10."
   ]
  },
  {
   "cell_type": "code",
   "execution_count": 62,
   "metadata": {
    "ExecuteTime": {
     "end_time": "2020-03-15T11:11:47.818744Z",
     "start_time": "2020-03-15T11:11:47.797472Z"
    }
   },
   "outputs": [],
   "source": [
    "# your code here\n",
    "\n",
    "def uniform_dist (bottom, ceiling, count):\n",
    "    \n",
    "    \n",
    "    \"\"\"\n",
    "    Genera números aleatorios que forman una distribución uniforme. \n",
    "    \n",
    "    Inputs:\n",
    "    * bottom - Límite inferior de los números\n",
    "    * ceiling - Límite superior de los números\n",
    "    * count - Cantidad de números\n",
    "    \n",
    "    Output:\n",
    "    * Matriz de números aleatorios distribuidos uniformemente.\n",
    "    \n",
    "    \"\"\"\n",
    "    return np.random.uniform(bottom, ceiling, count)\n"
   ]
  },
  {
   "cell_type": "code",
   "execution_count": 101,
   "metadata": {
    "ExecuteTime": {
     "end_time": "2020-03-15T12:07:33.703572Z",
     "start_time": "2020-03-15T12:07:33.193927Z"
    }
   },
   "outputs": [
    {
     "data": {
      "image/png": "[encoded data removed]",
      "text/plain": [
       "<Figure size 1080x360 with 2 Axes>"
      ]
     },
     "metadata": {
      "needs_background": "light"
     },
     "output_type": "display_data"
    }
   ],
   "source": [
    "fig, ax = plt.subplots(1,2)\n",
    "fig.suptitle(\"Distribución uniforme\")\n",
    "_=ax[0].hist(x = uniform_dist(10,15,100), bins = 10 ,color = \"g\")\n",
    "_=ax[0].set_title(\"Max: 10, Min: 15, Size: 100\")\n",
    "_=ax[1].hist(x = uniform_dist(10,60,1000), bins = 10, color = \"g\")\n",
    "_=ax[1].set_title(\"Max: 10, Min: 60, Size: 1000\")"
   ]
  },
  {
   "cell_type": "markdown",
   "metadata": {},
   "source": [
    "How are the two distributions different?"
   ]
  },
  {
   "cell_type": "markdown",
   "metadata": {
    "ExecuteTime": {
     "end_time": "2019-08-02T06:07:54.812745Z",
     "start_time": "2019-08-02T06:07:54.810660Z"
    }
   },
   "source": [
    "A mayor número de variables, las distribuciones se vuelven más uniformes."
   ]
  },
  {
   "cell_type": "markdown",
   "metadata": {},
   "source": [
    "## Normal Distribution\n",
    "\n",
    "1. In the same way in the Uniform Distribution challenge, write a function that generates normally distributed random numbers.\n",
    "1. Generate 1,000 normally distributed numbers with the average of 10 and standard deviation of 1\n",
    "1. Generate 1,000 normally distributed numbers with the average of 10 and standard deviation of 50\n",
    "2. Plot the distributions of the data generated."
   ]
  },
  {
   "cell_type": "code",
   "execution_count": 102,
   "metadata": {
    "ExecuteTime": {
     "end_time": "2020-03-15T12:11:59.966695Z",
     "start_time": "2020-03-15T12:11:59.935725Z"
    }
   },
   "outputs": [],
   "source": [
    "def normal_dist (average, std , count):\n",
    "    \n",
    "    \n",
    "    \"\"\"\n",
    "    Genera números aleatorios que forman una distribución normal. \n",
    "    \n",
    "    Inputs:\n",
    "    * average - Promedio de la distribución\n",
    "    * std - Desviación estándar\n",
    "    * count - Cantidad de números\n",
    "    \n",
    "    Output:\n",
    "    * Matriz de números aleatorios de una distribución normal .\n",
    "    \n",
    "    \"\"\"\n",
    "    return np.random.normal(average, std, count)"
   ]
  },
  {
   "cell_type": "code",
   "execution_count": 103,
   "metadata": {
    "ExecuteTime": {
     "end_time": "2020-03-15T12:12:01.261420Z",
     "start_time": "2020-03-15T12:12:00.658238Z"
    }
   },
   "outputs": [
    {
     "data": {
      "image/png": "[encoded data removed]",
      "text/plain": [
       "<Figure size 1080x360 with 2 Axes>"
      ]
     },
     "metadata": {
      "needs_background": "light"
     },
     "output_type": "display_data"
    }
   ],
   "source": [
    "fig, ax = plt.subplots(1,2)\n",
    "fig.suptitle(\"Distribución normal\")\n",
    "_=ax[0].hist(x = normal_dist(10,1,1000), bins = 10 ,color = \"g\")\n",
    "_=ax[0].set_title(\"Average: 10, Std. Desv.: 1, Size: 1000\")\n",
    "_=ax[1].hist(x = normal_dist(10,50,1000), bins = 10, color = \"g\")\n",
    "_=ax[1].set_title(\"Average: 10, Std. Desv.: 50, Size: 1000\")"
   ]
  },
  {
   "cell_type": "markdown",
   "metadata": {},
   "source": [
    "How are the two distributions different?"
   ]
  },
  {
   "cell_type": "markdown",
   "metadata": {
    "ExecuteTime": {
     "end_time": "2019-08-02T06:07:54.816439Z",
     "start_time": "2019-08-02T06:07:54.814409Z"
    }
   },
   "source": [
    "La media es la misma, solo varia la desviación estándar, por lo que los datos de la segunda gráfica están más separados."
   ]
  },
  {
   "cell_type": "markdown",
   "metadata": {},
   "source": [
    "## Normal Distribution of Real Data\n",
    "\n",
    "In this challenge we are going to take a look the real data. We will use vehicles.csv file for this exercise"
   ]
  },
  {
   "cell_type": "markdown",
   "metadata": {},
   "source": [
    "First import vehicles.csv.\n",
    "Then plot the histograms for the following variables:"
   ]
  },
  {
   "cell_type": "code",
   "execution_count": 106,
   "metadata": {
    "ExecuteTime": {
     "end_time": "2020-03-15T12:14:31.005572Z",
     "start_time": "2020-03-15T12:14:30.841020Z"
    }
   },
   "outputs": [],
   "source": [
    "# your code here\n",
    "vehicles = pd.read_csv (\"../vehicles.csv\")"
   ]
  },
  {
   "cell_type": "markdown",
   "metadata": {},
   "source": [
    "1. Fuel Barrels/Year\n",
    "2. CO2 Emission Grams/Mile \n",
    "3. Combined MPG"
   ]
  },
  {
   "cell_type": "code",
   "execution_count": 104,
   "metadata": {
    "ExecuteTime": {
     "end_time": "2020-03-15T12:14:01.369519Z",
     "start_time": "2020-03-15T12:14:00.324901Z"
    }
   },
   "outputs": [
    {
     "data": {
      "image/png": "[encoded data removed]",
      "text/plain": [
       "<Figure size 1080x360 with 3 Axes>"
      ]
     },
     "metadata": {
      "needs_background": "light"
     },
     "output_type": "display_data"
    }
   ],
   "source": [
    "fig, ax = plt.subplots(1,3)\n",
    "fig.suptitle(\"Distribución normal - Vehicles\")\n",
    "_=ax[0].hist(x = vehicles['Fuel Barrels/Year'], bins = 10 ,color = \"g\")\n",
    "_=ax[0].set_title(\"Fuel Barrels/Year\")\n",
    "_=ax[1].hist(x = vehicles['CO2 Emission Grams/Mile'], bins = 10, color = \"g\")\n",
    "_=ax[1].set_title('CO2 Emission Grams/Mile')\n",
    "_=ax[2].hist(x = vehicles['Combined MPG'], bins = 10, color = \"g\")\n",
    "_=ax[2].set_title('Combined MPG')"
   ]
  },
  {
   "cell_type": "markdown",
   "metadata": {},
   "source": [
    "Which one(s) of the variables are nearly normally distributed? How do you know?"
   ]
  },
  {
   "cell_type": "code",
   "execution_count": 160,
   "metadata": {
    "ExecuteTime": {
     "end_time": "2020-03-15T12:50:25.003289Z",
     "start_time": "2020-03-15T12:50:24.986512Z"
    }
   },
   "outputs": [],
   "source": [
    "def normality_test(col, alpha):\n",
    "    stat, p = stats.shapiro(col)\n",
    "    print('Statistics=%.5f , p=%.3f' % (stat, p))\n",
    "    if p > alpha:\n",
    "        print('Sample looks Normal')\n",
    "    else:\n",
    "        print('Sample does not look Normal')\n"
   ]
  },
  {
   "cell_type": "code",
   "execution_count": 161,
   "metadata": {
    "ExecuteTime": {
     "end_time": "2020-03-15T12:50:25.458609Z",
     "start_time": "2020-03-15T12:50:25.434607Z"
    }
   },
   "outputs": [
    {
     "name": "stdout",
     "output_type": "stream",
     "text": [
      "Statistics=0.96742 , p=0.000\n",
      "Sample does not look Normal\n",
      "None\n",
      "Statistics=0.96749 , p=0.000\n",
      "Sample does not look Normal\n",
      "None\n",
      "Statistics=0.94662 , p=0.000\n",
      "Sample does not look Normal\n",
      "None\n"
     ]
    }
   ],
   "source": [
    "#Las tres distribuciones se aproximan a una normal, pero están sesgadas a la izquierda sobretodo Combined MPG.\n",
    "print(normality_test(vehicles['Fuel Barrels/Year'],0.05))\n",
    "print(normality_test(vehicles['CO2 Emission Grams/Mile'],0.05))\n",
    "print(normality_test(vehicles['Combined MPG'],0.05))"
   ]
  },
  {
   "cell_type": "markdown",
   "metadata": {},
   "source": [
    "## Exponential Distribution"
   ]
  },
  {
   "cell_type": "markdown",
   "metadata": {},
   "source": [
    "1. Using `numpy.random.exponential`, create a function that returns a list of numbers exponentially distributed with the mean of 10. \n",
    "\n",
    "1. Use the function to generate two number sequences with the size of 1 and 100.\n",
    "\n",
    "1. Plot the distributions as histograms with the nubmer of bins as 100."
   ]
  },
  {
   "cell_type": "code",
   "execution_count": 109,
   "metadata": {
    "ExecuteTime": {
     "end_time": "2020-03-15T12:30:10.139581Z",
     "start_time": "2020-03-15T12:30:10.130450Z"
    }
   },
   "outputs": [],
   "source": [
    "# your code here\n",
    "\n",
    "def exp_dist (mean, count):\n",
    "    \n",
    "    \n",
    "    \"\"\"\n",
    "    Genera números aleatorios que forman una distribución exponencial. \n",
    "    \n",
    "    Inputs:\n",
    "    * mean - Media de la distribución\n",
    "    * count - Cantidad de números\n",
    "    \n",
    "    Output:\n",
    "    * Matriz de números aleatorios de una distribución exponencial .\n",
    "    \n",
    "    \"\"\"\n",
    "    return np.random.exponential(mean, count)\n"
   ]
  },
  {
   "cell_type": "code",
   "execution_count": 110,
   "metadata": {
    "ExecuteTime": {
     "end_time": "2020-03-15T12:30:12.084472Z",
     "start_time": "2020-03-15T12:30:10.841919Z"
    }
   },
   "outputs": [
    {
     "data": {
      "image/png": "[encoded data removed]",
      "text/plain": [
       "<Figure size 1080x360 with 2 Axes>"
      ]
     },
     "metadata": {
      "needs_background": "light"
     },
     "output_type": "display_data"
    }
   ],
   "source": [
    "fig, ax = plt.subplots(1,2)\n",
    "fig.suptitle(\"Distribución exponencial\")\n",
    "_=ax[0].hist(x = exp_dist(10,1), bins = 100 ,color = \"g\")\n",
    "_=ax[0].set_title(\"Mean: 10, Size: 1\")\n",
    "_=ax[1].hist(x = exp_dist(10,100), bins = 100, color = \"g\")\n",
    "_=ax[1].set_title(\"Mean: 10, Size: 100\")"
   ]
  },
  {
   "cell_type": "markdown",
   "metadata": {},
   "source": [
    "How are the two distributions different?"
   ]
  },
  {
   "cell_type": "markdown",
   "metadata": {
    "ExecuteTime": {
     "end_time": "2019-08-02T06:07:55.068339Z",
     "start_time": "2019-08-02T06:07:55.065924Z"
    }
   },
   "source": [
    "No se puede apreciar ninguna variación con un tamaño muestral de 1."
   ]
  },
  {
   "cell_type": "markdown",
   "metadata": {},
   "source": [
    "## Exponential Distribution of Real Data\n",
    "\n",
    "Suppose that the amount of time one spends in a bank is exponentially distributed with mean as 10 minutes (i.e. λ = 1/10). What is the probability that a customer will spend less than fifteen minutes in the bank? \n",
    "\n",
    "Write a code in python to solve this problem"
   ]
  },
  {
   "cell_type": "code",
   "execution_count": 163,
   "metadata": {
    "ExecuteTime": {
     "end_time": "2020-03-15T13:23:00.181993Z",
     "start_time": "2020-03-15T13:23:00.112307Z"
    }
   },
   "outputs": [
    {
     "data": {
      "text/plain": [
       "0.9999996619256516"
      ]
     },
     "execution_count": 163,
     "metadata": {},
     "output_type": "execute_result"
    }
   ],
   "source": [
    "# Hint: This is same as saying P(x<15)\n",
    "stats.expon(1/10).cdf(15)"
   ]
  },
  {
   "cell_type": "markdown",
   "metadata": {},
   "source": [
    "What is the probability that the customer will spend more than 15 minutes"
   ]
  },
  {
   "cell_type": "code",
   "execution_count": 165,
   "metadata": {
    "ExecuteTime": {
     "end_time": "2020-03-15T13:23:37.967896Z",
     "start_time": "2020-03-15T13:23:37.956046Z"
    }
   },
   "outputs": [
    {
     "data": {
      "text/plain": [
       "3.3807434840493755e-07"
      ]
     },
     "execution_count": 165,
     "metadata": {},
     "output_type": "execute_result"
    }
   ],
   "source": [
    "1 - stats.expon(1/10).cdf(15)"
   ]
  }
 ],
 "metadata": {
  "kernelspec": {
   "display_name": "Python 3",
   "language": "python",
   "name": "python3"
  },
  "language_info": {
   "codemirror_mode": {
    "name": "ipython",
    "version": 3
   },
   "file_extension": ".py",
   "mimetype": "text/x-python",
   "name": "python",
   "nbconvert_exporter": "python",
   "pygments_lexer": "ipython3",
   "version": "3.7.4"
  },
  "toc": {
   "base_numbering": 1,
   "nav_menu": {},
   "number_sections": true,
   "sideBar": true,
   "skip_h1_title": false,
   "title_cell": "Table of Contents",
   "title_sidebar": "Contents",
   "toc_cell": false,
   "toc_position": {},
   "toc_section_display": true,
   "toc_window_display": false
  },
  "varInspector": {
   "cols": {
    "lenName": 16,
    "lenType": 16,
    "lenVar": 40
   },
   "kernels_config": {
    "python": {
     "delete_cmd_postfix": "",
     "delete_cmd_prefix": "del ",
     "library": "var_list.py",
     "varRefreshCmd": "print(var_dic_list())"
    },
    "r": {
     "delete_cmd_postfix": ") ",
     "delete_cmd_prefix": "rm(",
     "library": "var_list.r",
     "varRefreshCmd": "cat(var_dic_list()) "
    }
   },
   "types_to_exclude": [
    "module",
    "function",
    "builtin_function_or_method",
    "instance",
    "_Feature"
   ],
   "window_display": false
  }
 },
 "nbformat": 4,
 "nbformat_minor": 2
}
